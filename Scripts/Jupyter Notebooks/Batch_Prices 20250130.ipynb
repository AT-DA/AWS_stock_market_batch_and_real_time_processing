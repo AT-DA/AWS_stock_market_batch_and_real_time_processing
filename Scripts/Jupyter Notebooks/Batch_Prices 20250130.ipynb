{
 "cells": [
  {
   "cell_type": "code",
   "execution_count": 20,
   "metadata": {},
   "outputs": [],
   "source": [
    "import pandas as pd\n",
    "from datetime import datetime, timedelta\n",
    "from random import randrange\n",
    "import s3fs\n",
    "from pyathena import connect\n",
    "from pandasql import sqldf"
   ]
  },
  {
   "cell_type": "code",
   "execution_count": 21,
   "metadata": {},
   "outputs": [],
   "source": [
    "#get the current stock prices of some companies on 25/01/2025\n",
    "\n",
    "companies_price = {\n",
    "                    'NVDA': {'current_price':143},\n",
    "                    'AAPL': {'current_price':223},\n",
    "                    'MSFT': {'current_price':444},\n",
    "                    'AMZN': {'current_price':234},\n",
    "                    'GOOGL': {'current_price':200},\n",
    "                    'META': {'current_price':647},\n",
    "                    'TSLA': {'current_price':407},\n",
    "                    'WMT': {'current_price':95},\n",
    "                    'JPM': {'current_price':265},\n",
    "                    'V': {'current_price':330},\n",
    "                    'ORCL': {'current_price':184},\n",
    "                    'MA': {'current_price':490},\n",
    "                    'XOM': {'current_price':109},\n",
    "                    'NFLX': {'current_price':978},\n",
    "                    'PG': {'current_price':164},\n",
    "                    'SAP': {'current_price':276}\n",
    "                    }"
   ]
  },
  {
   "cell_type": "code",
   "execution_count": 22,
   "metadata": {},
   "outputs": [],
   "source": [
    "#create a min and max price for each current price by adding and removing 10% from the current price\n",
    "\n",
    "for k in companies_price:\n",
    "    companies_price[k]['min_price'] = int(companies_price[k]['current_price'] * 0.9)\n",
    "    companies_price[k]['max_price'] = int(companies_price[k]['current_price'] * 1.1)"
   ]
  },
  {
   "cell_type": "code",
   "execution_count": 23,
   "metadata": {},
   "outputs": [],
   "source": [
    "#create a random date between 1/1/2022 and 31/12/2024\n",
    "\n",
    "date_1 = datetime.strptime('01-01-2022', '%d-%m-%Y')\n",
    "date_2 = datetime.strptime('31-12-2024', '%d-%m-%Y')\n",
    "\n",
    "days_diff_integer = (date_2 - date_1).days\n",
    "random_days = randrange(days_diff_integer)\n",
    "random_date = date_1 + timedelta(days = random_days)\n",
    "random_date = random_date.strftime('%Y-%m-%d')"
   ]
  },
  {
   "cell_type": "code",
   "execution_count": 24,
   "metadata": {},
   "outputs": [],
   "source": [
    "#generate a random closing pricing between the min and the max prices, and add the random_date generated in the previous step\n",
    "\n",
    "for k in companies_price:\n",
    "    min_price = companies_price[k]['min_price']\n",
    "    max_price = companies_price[k]['max_price']\n",
    "    companies_price[k]['date'] = random_date\n",
    "    companies_price[k]['close_price'] = randrange(min_price, max_price)"
   ]
  },
  {
   "cell_type": "code",
   "execution_count": 25,
   "metadata": {},
   "outputs": [],
   "source": [
    "#delete the keys min_price, max_price and current_price since they're not needed anymore\n",
    "\n",
    "for k in companies_price:\n",
    "    del companies_price[k]['min_price'] \n",
    "    del companies_price[k]['max_price']\n",
    "    del companies_price[k]['current_price']"
   ]
  },
  {
   "cell_type": "code",
   "execution_count": 26,
   "metadata": {},
   "outputs": [],
   "source": [
    "df = pd.DataFrame.from_dict(companies_price, orient='index')\n",
    "df.reset_index(inplace = True)\n",
    "df.rename(columns={'index': 'company'}, inplace = True)"
   ]
  },
  {
   "cell_type": "code",
   "execution_count": 27,
   "metadata": {},
   "outputs": [],
   "source": [
    "today = datetime.today()\n",
    "file_name = datetime.strftime(today, '%Y%m%d%H%M%S')"
   ]
  },
  {
   "cell_type": "code",
   "execution_count": 28,
   "metadata": {},
   "outputs": [],
   "source": [
    "path = f's3://stock-market-raw-data-us-east-1/stg_price_by_date/{file_name}.csv'"
   ]
  },
  {
   "cell_type": "code",
   "execution_count": 29,
   "metadata": {},
   "outputs": [],
   "source": [
    "df.to_csv(path, index=False, lineterminator = '\\r')"
   ]
  }
 ],
 "metadata": {
  "kernelspec": {
   "display_name": "Python 3",
   "language": "python",
   "name": "python3"
  },
  "language_info": {
   "codemirror_mode": {
    "name": "ipython",
    "version": 3
   },
   "file_extension": ".py",
   "mimetype": "text/x-python",
   "name": "python",
   "nbconvert_exporter": "python",
   "pygments_lexer": "ipython3",
   "version": "3.8.5"
  }
 },
 "nbformat": 4,
 "nbformat_minor": 4
}
