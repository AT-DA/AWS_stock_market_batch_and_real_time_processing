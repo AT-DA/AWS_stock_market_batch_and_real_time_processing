{
 "cells": [
  {
   "cell_type": "code",
   "execution_count": 264,
   "metadata": {},
   "outputs": [],
   "source": [
    "import pandas as pd\n",
    "from datetime import datetime, timedelta\n",
    "from random import randrange"
   ]
  },
  {
   "cell_type": "code",
   "execution_count": 265,
   "metadata": {},
   "outputs": [],
   "source": [
    "#get the current stock prices of some companies on 25/01/2025\n",
    "\n",
    "companies_price = {\n",
    "                    'NVDA': {'current_price':143},\n",
    "                    'AAPL': {'current_price':223},\n",
    "                    'MSFT': {'current_price':444},\n",
    "                    'AMZN': {'current_price':234},\n",
    "                    'GOOGL': {'current_price':200},\n",
    "                    'META': {'current_price':647},\n",
    "                    'TSLA': {'current_price':407},\n",
    "                    'WMT': {'current_price':95},\n",
    "                    'JPM': {'current_price':265},\n",
    "                    'V': {'current_price':330},\n",
    "                    'ORCL': {'current_price':184},\n",
    "                    'MA': {'current_price':490},\n",
    "                    'XOM': {'current_price':109},\n",
    "                    'NFLX': {'current_price':978},\n",
    "                    'PG': {'current_price':164},\n",
    "                    'SAP': {'current_price':276}\n",
    "                    }"
   ]
  },
  {
   "cell_type": "code",
   "execution_count": 266,
   "metadata": {},
   "outputs": [],
   "source": [
    "#create a min and max price for each current price by adding and removing 10% from the current price\n",
    "\n",
    "for k in companies_price:\n",
    "    companies_price[k]['min_price'] = int(companies_price[k]['current_price'] * 0.9)\n",
    "    companies_price[k]['max_price'] = int(companies_price[k]['current_price'] * 1.1)"
   ]
  },
  {
   "cell_type": "code",
   "execution_count": 267,
   "metadata": {},
   "outputs": [],
   "source": [
    "#generate a random closing pricing between the min and the max prices\n",
    "\n",
    "for k in companies_price:\n",
    "    min_price = companies_price[k]['min_price']\n",
    "    max_price = companies_price[k]['max_price']\n",
    "    companies_price[k]['current_price'] = randrange(min_price, max_price)"
   ]
  },
  {
   "cell_type": "code",
   "execution_count": 268,
   "metadata": {},
   "outputs": [],
   "source": [
    "#delete the keys min_price, max_price and current_price since they're not needed anymore\n",
    "\n",
    "for k in companies_price:\n",
    "    del companies_price[k]['min_price'] \n",
    "    del companies_price[k]['max_price']"
   ]
  },
  {
   "cell_type": "code",
   "execution_count": 269,
   "metadata": {},
   "outputs": [],
   "source": [
    "df = pd.DataFrame.from_dict(companies_price, orient='index')\n",
    "df.reset_index(inplace = True)\n",
    "df.rename(columns={'index': 'company'}, inplace = True)"
   ]
  },
  {
   "cell_type": "code",
   "execution_count": 270,
   "metadata": {},
   "outputs": [
    {
     "data": {
      "text/html": [
       "<div>\n",
       "<style scoped>\n",
       "    .dataframe tbody tr th:only-of-type {\n",
       "        vertical-align: middle;\n",
       "    }\n",
       "\n",
       "    .dataframe tbody tr th {\n",
       "        vertical-align: top;\n",
       "    }\n",
       "\n",
       "    .dataframe thead th {\n",
       "        text-align: right;\n",
       "    }\n",
       "</style>\n",
       "<table border=\"1\" class=\"dataframe\">\n",
       "  <thead>\n",
       "    <tr style=\"text-align: right;\">\n",
       "      <th></th>\n",
       "      <th>company</th>\n",
       "      <th>current_price</th>\n",
       "    </tr>\n",
       "  </thead>\n",
       "  <tbody>\n",
       "    <tr>\n",
       "      <th>0</th>\n",
       "      <td>AAPL</td>\n",
       "      <td>216</td>\n",
       "    </tr>\n",
       "    <tr>\n",
       "      <th>1</th>\n",
       "      <td>AMZN</td>\n",
       "      <td>214</td>\n",
       "    </tr>\n",
       "    <tr>\n",
       "      <th>2</th>\n",
       "      <td>GOOGL</td>\n",
       "      <td>211</td>\n",
       "    </tr>\n",
       "    <tr>\n",
       "      <th>3</th>\n",
       "      <td>JPM</td>\n",
       "      <td>288</td>\n",
       "    </tr>\n",
       "    <tr>\n",
       "      <th>4</th>\n",
       "      <td>MA</td>\n",
       "      <td>510</td>\n",
       "    </tr>\n",
       "    <tr>\n",
       "      <th>5</th>\n",
       "      <td>META</td>\n",
       "      <td>691</td>\n",
       "    </tr>\n",
       "    <tr>\n",
       "      <th>6</th>\n",
       "      <td>MSFT</td>\n",
       "      <td>472</td>\n",
       "    </tr>\n",
       "    <tr>\n",
       "      <th>7</th>\n",
       "      <td>NFLX</td>\n",
       "      <td>897</td>\n",
       "    </tr>\n",
       "    <tr>\n",
       "      <th>8</th>\n",
       "      <td>NVDA</td>\n",
       "      <td>141</td>\n",
       "    </tr>\n",
       "    <tr>\n",
       "      <th>9</th>\n",
       "      <td>ORCL</td>\n",
       "      <td>172</td>\n",
       "    </tr>\n",
       "    <tr>\n",
       "      <th>10</th>\n",
       "      <td>PG</td>\n",
       "      <td>150</td>\n",
       "    </tr>\n",
       "    <tr>\n",
       "      <th>11</th>\n",
       "      <td>SAP</td>\n",
       "      <td>280</td>\n",
       "    </tr>\n",
       "    <tr>\n",
       "      <th>12</th>\n",
       "      <td>TSLA</td>\n",
       "      <td>431</td>\n",
       "    </tr>\n",
       "    <tr>\n",
       "      <th>13</th>\n",
       "      <td>V</td>\n",
       "      <td>353</td>\n",
       "    </tr>\n",
       "    <tr>\n",
       "      <th>14</th>\n",
       "      <td>WMT</td>\n",
       "      <td>100</td>\n",
       "    </tr>\n",
       "    <tr>\n",
       "      <th>15</th>\n",
       "      <td>XOM</td>\n",
       "      <td>116</td>\n",
       "    </tr>\n",
       "  </tbody>\n",
       "</table>\n",
       "</div>"
      ],
      "text/plain": [
       "   company  current_price\n",
       "0     AAPL            216\n",
       "1     AMZN            214\n",
       "2    GOOGL            211\n",
       "3      JPM            288\n",
       "4       MA            510\n",
       "5     META            691\n",
       "6     MSFT            472\n",
       "7     NFLX            897\n",
       "8     NVDA            141\n",
       "9     ORCL            172\n",
       "10      PG            150\n",
       "11     SAP            280\n",
       "12    TSLA            431\n",
       "13       V            353\n",
       "14     WMT            100\n",
       "15     XOM            116"
      ]
     },
     "execution_count": 270,
     "metadata": {},
     "output_type": "execute_result"
    }
   ],
   "source": [
    "df"
   ]
  }
 ],
 "metadata": {
  "kernelspec": {
   "display_name": "Python 3",
   "language": "python",
   "name": "python3"
  },
  "language_info": {
   "codemirror_mode": {
    "name": "ipython",
    "version": 3
   },
   "file_extension": ".py",
   "mimetype": "text/x-python",
   "name": "python",
   "nbconvert_exporter": "python",
   "pygments_lexer": "ipython3",
   "version": "3.8.5"
  }
 },
 "nbformat": 4,
 "nbformat_minor": 4
}
