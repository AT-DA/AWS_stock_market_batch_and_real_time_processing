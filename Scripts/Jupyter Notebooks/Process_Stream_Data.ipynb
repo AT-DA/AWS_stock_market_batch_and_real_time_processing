{
 "cells": [
  {
   "cell_type": "code",
   "execution_count": 22,
   "metadata": {},
   "outputs": [],
   "source": [
    "def process_stock_stream_data(event, context):\n",
    "    \n",
    "    import json\n",
    "    import boto3\n",
    "    import awswrangler as wr\n",
    "    import pandas as pd\n",
    "    from datetime import datetime\n",
    "    \n",
    "    #get the source path of the json file that will be read\n",
    "    source_bucket = event['Records'][0]['s3']['bucket']['name']\n",
    "    key = event['Records'][0]['s3']['object']['key']\n",
    "    path = source_bucket + key\n",
    "    \n",
    "    #read the json file as a data frame\n",
    "    df = wr.s3.read_json(path = path, lines=True) #lines=True is used to treat each line as a separate object\n",
    "    \n",
    "    #Apply Transformations\n",
    "    df['price'] = df['price'].astype(int)\n",
    "    df['produced_at'] = pd.to_datetime(df['produced_at'])\n",
    "    df['etl_loading_ts'] = datetime.now()\n",
    "    df['p_year'] = df['produced_at'].dt.year  #create the partition\n",
    "    \n",
    "    #write the file as parquet to the destination bucket\n",
    "    wr.s3.to_parquet( df = df, path ='s3://stock-market-raw-data-us-east-1/price_by_date_stream/',\n",
    "                        dataset=True, #This is done to enable other arguments of the function to_parquet such as partition_cols\n",
    "                        mode='append', #add new records without any overwrite or updates\n",
    "                        partition_cols=['p_year']\n",
    "                                                    )\n",
    "    \n",
    "    wr.s3.to_parquet(\n",
    "                    df = df,\n",
    "                     path ='s3://stock-market-raw-data-us-east-1/latest_stream_prices/latest_data.parquet'\n",
    "                     ) "
   ]
  },
  {
   "cell_type": "code",
   "execution_count": null,
   "metadata": {},
   "outputs": [],
   "source": []
  }
 ],
 "metadata": {
  "kernelspec": {
   "display_name": "Python 3",
   "language": "python",
   "name": "python3"
  },
  "language_info": {
   "codemirror_mode": {
    "name": "ipython",
    "version": 3
   },
   "file_extension": ".py",
   "mimetype": "text/x-python",
   "name": "python",
   "nbconvert_exporter": "python",
   "pygments_lexer": "ipython3",
   "version": "3.8.5"
  }
 },
 "nbformat": 4,
 "nbformat_minor": 4
}
