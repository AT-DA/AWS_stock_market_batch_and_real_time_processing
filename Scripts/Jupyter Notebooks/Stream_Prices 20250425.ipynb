{
 "cells": [
  {
   "cell_type": "markdown",
   "metadata": {},
   "source": [
    "**Purpose**\n",
    "\n",
    "This jupyter notebook acts as the data source used for stream processing (the data producer)\n",
    "\n",
    "This jupter notebok file generates stock market prices json data with the following keys:\n",
    "\n",
    "company- The company code\n",
    "\n",
    "stock_price- The stock closing price of the company at the time the script runs\n",
    "\n",
    "After data is randomly generated, it gets pushed to a kinesis stream (topic)\n"
   ]
  },
  {
   "cell_type": "code",
   "execution_count": 63,
   "metadata": {},
   "outputs": [],
   "source": [
    "import boto3"
   ]
  },
  {
   "cell_type": "code",
   "execution_count": 64,
   "metadata": {},
   "outputs": [],
   "source": [
    "kinesis_client = boto3.client('kinesis')"
   ]
  },
  {
   "cell_type": "markdown",
   "metadata": {},
   "source": [
    "**What does *boto3.client('kinesis')* do?**\n",
    "\n",
    "Here's a breakdown:\n",
    "\n",
    "\n",
    "boto3 is the library (the top-level module). \n",
    "\n",
    "boto3.client() is a function provided by that module.\n",
    "\n",
    "When you call boto3.client('kinesis'), it returns a service client object for the AWS service you specify (Kinesis)\n",
    "\n",
    "This object is not an instance of a class called Kinesis.\n",
    "Instead, it's a generic low-level client object that knows how to talk to the Kinesis API.\n",
    "\n",
    "So what is the type of that client object?\n",
    "\n",
    "if you try print(type(client)), You’ll get something like: <class 'botocore.client.Kinesis'>\n",
    "That Kinesis class is not a hand-written class — it’s generated at runtime by botocore,\n",
    "which builds classes on the fly based on service definitions.\n",
    "\n",
    "The Kinesis object has many functions such as create_stream(), putrecord(), etc..."
   ]
  },
  {
   "cell_type": "code",
   "execution_count": 44,
   "metadata": {},
   "outputs": [],
   "source": [
    "#this function generates simulated stock prices for a set of companies using a random range (+/-10%) of the current price\n",
    "#it returns a list of dictionaries, each item in the list is a dictionary that contains the symbol name and the price\n",
    "def create_stock_market_data():\n",
    "    \n",
    "    import pandas as pd\n",
    "    from datetime import datetime, timedelta\n",
    "    from random import randrange\n",
    "    \n",
    "    #get the current stock prices of some companies on 25/01/2025\n",
    "    companies_price = {\n",
    "                        'NVDA': {'current_price':143},\n",
    "                        'AAPL': {'current_price':223},\n",
    "                        'MSFT': {'current_price':444},\n",
    "                        'AMZN': {'current_price':234},\n",
    "                        'GOOGL': {'current_price':200},\n",
    "                        'META': {'current_price':647},\n",
    "                        'TSLA': {'current_price':407},\n",
    "                        'WMT': {'current_price':95},\n",
    "                        'JPM': {'current_price':265},\n",
    "                        'V': {'current_price':330},\n",
    "                        'ORCL': {'current_price':184},\n",
    "                        'MA': {'current_price':490},\n",
    "                        'XOM': {'current_price':109},\n",
    "                        'NFLX': {'current_price':978},\n",
    "                        'PG': {'current_price':164},\n",
    "                        'SAP': {'current_price':276}\n",
    "                        }\n",
    "    \n",
    "    \n",
    "    stock_data = []\n",
    "    \n",
    "    for k in companies_price:\n",
    "        \n",
    "        #create a min and max price for each current price by adding and removing 10% from the current price\n",
    "        companies_price[k]['min_price'] = int(companies_price[k]['current_price'] * 0.9)\n",
    "        companies_price[k]['max_price'] = int(companies_price[k]['current_price'] * 1.1)\n",
    "        \n",
    "        #generate a new random current price between the min and the max price\n",
    "        companies_price[k]['current_price'] = randrange(companies_price[k]['min_price'], companies_price[k]['max_price'])\n",
    "        \n",
    "        #delete the keys min_price, max_price since they're not needed anymore\n",
    "        del companies_price[k]['min_price'] \n",
    "        del companies_price[k]['max_price']\n",
    "        \n",
    "        stock_data.append({'symbol': k, 'price': companies_price[k]['current_price']})\n",
    "                                \n",
    "    return stock_data"
   ]
  },
  {
   "cell_type": "code",
   "execution_count": 50,
   "metadata": {},
   "outputs": [],
   "source": [
    "records = create_stock_market_data()"
   ]
  },
  {
   "cell_type": "code",
   "execution_count": 78,
   "metadata": {},
   "outputs": [],
   "source": [
    "#This function receives a list of dictionaries as an input parameter, then tranfsorms and \n",
    "#encodes it (change from string to bytes), then pushes it into a stream\n",
    "\n",
    "def write_records_to_stream(records):\n",
    "    \n",
    "    import json\n",
    "    \n",
    "    #generate stock market data list\n",
    "    records = create_stock_market_data()\n",
    "    \n",
    "    encoded_records = [] #this empty list will contain the encoded list\n",
    "    \n",
    "    #for each record, convert the data from a dictionary to json to be able to encode it.\n",
    "    #encoding is converting data from one format into another usually into bytes, which is the raw format\n",
    "    #computers and services like Kinesis expect. It is stated in the documentation of the function put_records that\n",
    "    #data should be in bytes\n",
    "    #Creating the partition key is necessary since all data records with the same partition key\n",
    "    #map to the same shard(partition) within the stream(topic).\n",
    "    for record in records:\n",
    "        encoded_records.append(\n",
    "                                {'Data': json.dumps(record).encode('utf-8'),\n",
    "                                'PartitionKey': record['symbol']\n",
    "                                    }\n",
    "                                    )\n",
    "    \n",
    "     # Send the records batch to Kinesis\n",
    "    response = kinesis_client.put_records(Records = encoded_records, StreamName = 'my_first_data_stream')\n",
    "    \n",
    "    return response"
   ]
  },
  {
   "cell_type": "code",
   "execution_count": 79,
   "metadata": {},
   "outputs": [
    {
     "data": {
      "text/plain": [
       "{'FailedRecordCount': 0,\n",
       " 'Records': [{'SequenceNumber': '49662652658056415759625962697078187108115376095384043538',\n",
       "   'ShardId': 'shardId-000000000001'},\n",
       "  {'SequenceNumber': '49662652658078716504824493320213678197289951311016493090',\n",
       "   'ShardId': 'shardId-000000000002'},\n",
       "  {'SequenceNumber': '49662652658078716504824493320214887123109565940191199266',\n",
       "   'ShardId': 'shardId-000000000002'},\n",
       "  {'SequenceNumber': '49662652658034115014427432073941487093121186250576887810',\n",
       "   'ShardId': 'shardId-000000000000'},\n",
       "  {'SequenceNumber': '49662652658101017250023023943350378212284141155823648818',\n",
       "   'ShardId': 'shardId-000000000003'},\n",
       "  {'SequenceNumber': '49662652658101017250023023943352796063923370414173061170',\n",
       "   'ShardId': 'shardId-000000000003'},\n",
       "  {'SequenceNumber': '49662652658101017250023023943354004989742985043347767346',\n",
       "   'ShardId': 'shardId-000000000003'},\n",
       "  {'SequenceNumber': '49662652658078716504824493320216096048929180569365905442',\n",
       "   'ShardId': 'shardId-000000000002'},\n",
       "  {'SequenceNumber': '49662652658078716504824493320217304974748795198540611618',\n",
       "   'ShardId': 'shardId-000000000002'},\n",
       "  {'SequenceNumber': '49662652658056415759625962697079396033934990724558749714',\n",
       "   'ShardId': 'shardId-000000000001'},\n",
       "  {'SequenceNumber': '49662652658034115014427432073942696018940800879751593986',\n",
       "   'ShardId': 'shardId-000000000000'},\n",
       "  {'SequenceNumber': '49662652658034115014427432073943904944760415508926300162',\n",
       "   'ShardId': 'shardId-000000000000'},\n",
       "  {'SequenceNumber': '49662652658056415759625962697080604959754605353733455890',\n",
       "   'ShardId': 'shardId-000000000001'},\n",
       "  {'SequenceNumber': '49662652658034115014427432073945113870580030138101006338',\n",
       "   'ShardId': 'shardId-000000000000'},\n",
       "  {'SequenceNumber': '49662652658056415759625962697081813885574219982908162066',\n",
       "   'ShardId': 'shardId-000000000001'},\n",
       "  {'SequenceNumber': '49662652658078716504824493320218513900568409827715317794',\n",
       "   'ShardId': 'shardId-000000000002'}],\n",
       " 'ResponseMetadata': {'RequestId': 'cb1403d9-b814-617d-ab91-edea430e2748',\n",
       "  'HTTPStatusCode': 200,\n",
       "  'HTTPHeaders': {'x-amzn-requestid': 'cb1403d9-b814-617d-ab91-edea430e2748',\n",
       "   'x-amz-id-2': 'A2X5RmJhZa/vNuvx36yihfDECgMysRnPAsgJMlsSKLmia5FdqFDlygYzHi4FU9SOjugAsqLwrQ9rftrLG3lQsEqGGnZ5pr3+',\n",
       "   'date': 'Fri, 25 Apr 2025 20:09:23 GMT',\n",
       "   'content-type': 'application/x-amz-json-1.1',\n",
       "   'content-length': '1811',\n",
       "   'connection': 'keep-alive'},\n",
       "  'RetryAttempts': 0}}"
      ]
     },
     "execution_count": 79,
     "metadata": {},
     "output_type": "execute_result"
    }
   ],
   "source": [
    "write_records_to_stream(records)"
   ]
  },
  {
   "cell_type": "code",
   "execution_count": 81,
   "metadata": {},
   "outputs": [],
   "source": [
    "# import boto3\n",
    "\n",
    "# session = boto3.session.Session()\n",
    "# print(\"AWS profile used:\", session.profile_name)\n",
    "# print(\"Region:\", session.region_name)\n",
    "\n",
    "# creds = session.get_credentials()\n",
    "# print(\"Access key:\", creds.access_key)\n",
    "# print(\"Secret key:\", creds.secret_key[:4] + \"...\" if creds else \"None\")\n"
   ]
  },
  {
   "cell_type": "code",
   "execution_count": null,
   "metadata": {},
   "outputs": [],
   "source": []
  }
 ],
 "metadata": {
  "kernelspec": {
   "display_name": "Python 3",
   "language": "python",
   "name": "python3"
  },
  "language_info": {
   "codemirror_mode": {
    "name": "ipython",
    "version": 3
   },
   "file_extension": ".py",
   "mimetype": "text/x-python",
   "name": "python",
   "nbconvert_exporter": "python",
   "pygments_lexer": "ipython3",
   "version": "3.8.5"
  }
 },
 "nbformat": 4,
 "nbformat_minor": 4
}
