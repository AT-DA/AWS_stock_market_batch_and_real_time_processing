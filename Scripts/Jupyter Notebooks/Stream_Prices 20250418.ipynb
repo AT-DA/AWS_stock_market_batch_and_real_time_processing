{
 "cells": [
  {
   "cell_type": "markdown",
   "metadata": {},
   "source": [
    "**Purpose**\n",
    "\n",
    "This jupter notebok file generates  stock market prices dataframes with the following columns:\n",
    "\n",
    "company- The company code\n",
    "\n",
    "stock_price- The stock closing price of the company at the time the script runs\n",
    "\n",
    "This jupyter notebook acts as the data source used for stream processing"
   ]
  },
  {
   "cell_type": "code",
   "execution_count": 2,
   "metadata": {},
   "outputs": [
    {
     "name": "stderr",
     "output_type": "stream",
     "text": [
      "D:\\Anaconda\\lib\\site-packages\\pandas\\core\\computation\\expressions.py:20: UserWarning: Pandas requires version '2.7.3' or newer of 'numexpr' (version '2.7.1' currently installed).\n",
      "  from pandas.core.computation.check import NUMEXPR_INSTALLED\n"
     ]
    }
   ],
   "source": [
    "import pandas as pd\n",
    "from datetime import datetime, timedelta\n",
    "from random import randrange"
   ]
  },
  {
   "cell_type": "code",
   "execution_count": 3,
   "metadata": {},
   "outputs": [],
   "source": [
    "#get the current stock prices of some companies on 25/01/2025\n",
    "\n",
    "companies_price = {\n",
    "                    'NVDA': {'current_price':143},\n",
    "                    'AAPL': {'current_price':223},\n",
    "                    'MSFT': {'current_price':444},\n",
    "                    'AMZN': {'current_price':234},\n",
    "                    'GOOGL': {'current_price':200},\n",
    "                    'META': {'current_price':647},\n",
    "                    'TSLA': {'current_price':407},\n",
    "                    'WMT': {'current_price':95},\n",
    "                    'JPM': {'current_price':265},\n",
    "                    'V': {'current_price':330},\n",
    "                    'ORCL': {'current_price':184},\n",
    "                    'MA': {'current_price':490},\n",
    "                    'XOM': {'current_price':109},\n",
    "                    'NFLX': {'current_price':978},\n",
    "                    'PG': {'current_price':164},\n",
    "                    'SAP': {'current_price':276}\n",
    "                    }"
   ]
  },
  {
   "cell_type": "code",
   "execution_count": 4,
   "metadata": {},
   "outputs": [],
   "source": [
    "#create a min and max price for each current price by adding and removing 10% from the current price\n",
    "\n",
    "for k in companies_price:\n",
    "    companies_price[k]['min_price'] = int(companies_price[k]['current_price'] * 0.9)\n",
    "    companies_price[k]['max_price'] = int(companies_price[k]['current_price'] * 1.1)"
   ]
  },
  {
   "cell_type": "code",
   "execution_count": 5,
   "metadata": {},
   "outputs": [],
   "source": [
    "#generate a random closing pricing between the min and the max prices\n",
    "\n",
    "for k in companies_price:\n",
    "    min_price = companies_price[k]['min_price']\n",
    "    max_price = companies_price[k]['max_price']\n",
    "    companies_price[k]['current_price'] = randrange(min_price, max_price)"
   ]
  },
  {
   "cell_type": "code",
   "execution_count": 6,
   "metadata": {},
   "outputs": [],
   "source": [
    "#delete the keys min_price, max_price and current_price since they're not needed anymore\n",
    "\n",
    "for k in companies_price:\n",
    "    del companies_price[k]['min_price'] \n",
    "    del companies_price[k]['max_price']"
   ]
  },
  {
   "cell_type": "code",
   "execution_count": 8,
   "metadata": {},
   "outputs": [],
   "source": [
    "df = pd.DataFrame.from_dict(companies_price, orient='index')\n",
    "df.reset_index(inplace = True)\n",
    "df.rename(columns={'index': 'company'}, inplace = True)\n",
    "df['current_timestmap'] = datetime.today()"
   ]
  },
  {
   "cell_type": "code",
   "execution_count": 9,
   "metadata": {},
   "outputs": [
    {
     "data": {
      "text/html": [
       "<div>\n",
       "<style scoped>\n",
       "    .dataframe tbody tr th:only-of-type {\n",
       "        vertical-align: middle;\n",
       "    }\n",
       "\n",
       "    .dataframe tbody tr th {\n",
       "        vertical-align: top;\n",
       "    }\n",
       "\n",
       "    .dataframe thead th {\n",
       "        text-align: right;\n",
       "    }\n",
       "</style>\n",
       "<table border=\"1\" class=\"dataframe\">\n",
       "  <thead>\n",
       "    <tr style=\"text-align: right;\">\n",
       "      <th></th>\n",
       "      <th>company</th>\n",
       "      <th>current_price</th>\n",
       "      <th>current_timestmap</th>\n",
       "    </tr>\n",
       "  </thead>\n",
       "  <tbody>\n",
       "    <tr>\n",
       "      <th>0</th>\n",
       "      <td>AAPL</td>\n",
       "      <td>237</td>\n",
       "      <td>2025-04-18 19:27:05.526499</td>\n",
       "    </tr>\n",
       "    <tr>\n",
       "      <th>1</th>\n",
       "      <td>AMZN</td>\n",
       "      <td>249</td>\n",
       "      <td>2025-04-18 19:27:05.526499</td>\n",
       "    </tr>\n",
       "    <tr>\n",
       "      <th>2</th>\n",
       "      <td>GOOGL</td>\n",
       "      <td>193</td>\n",
       "      <td>2025-04-18 19:27:05.526499</td>\n",
       "    </tr>\n",
       "    <tr>\n",
       "      <th>3</th>\n",
       "      <td>JPM</td>\n",
       "      <td>286</td>\n",
       "      <td>2025-04-18 19:27:05.526499</td>\n",
       "    </tr>\n",
       "    <tr>\n",
       "      <th>4</th>\n",
       "      <td>MA</td>\n",
       "      <td>465</td>\n",
       "      <td>2025-04-18 19:27:05.526499</td>\n",
       "    </tr>\n",
       "    <tr>\n",
       "      <th>5</th>\n",
       "      <td>META</td>\n",
       "      <td>707</td>\n",
       "      <td>2025-04-18 19:27:05.526499</td>\n",
       "    </tr>\n",
       "    <tr>\n",
       "      <th>6</th>\n",
       "      <td>MSFT</td>\n",
       "      <td>451</td>\n",
       "      <td>2025-04-18 19:27:05.526499</td>\n",
       "    </tr>\n",
       "    <tr>\n",
       "      <th>7</th>\n",
       "      <td>NFLX</td>\n",
       "      <td>1043</td>\n",
       "      <td>2025-04-18 19:27:05.526499</td>\n",
       "    </tr>\n",
       "    <tr>\n",
       "      <th>8</th>\n",
       "      <td>NVDA</td>\n",
       "      <td>146</td>\n",
       "      <td>2025-04-18 19:27:05.526499</td>\n",
       "    </tr>\n",
       "    <tr>\n",
       "      <th>9</th>\n",
       "      <td>ORCL</td>\n",
       "      <td>169</td>\n",
       "      <td>2025-04-18 19:27:05.526499</td>\n",
       "    </tr>\n",
       "    <tr>\n",
       "      <th>10</th>\n",
       "      <td>PG</td>\n",
       "      <td>165</td>\n",
       "      <td>2025-04-18 19:27:05.526499</td>\n",
       "    </tr>\n",
       "    <tr>\n",
       "      <th>11</th>\n",
       "      <td>SAP</td>\n",
       "      <td>252</td>\n",
       "      <td>2025-04-18 19:27:05.526499</td>\n",
       "    </tr>\n",
       "    <tr>\n",
       "      <th>12</th>\n",
       "      <td>TSLA</td>\n",
       "      <td>444</td>\n",
       "      <td>2025-04-18 19:27:05.526499</td>\n",
       "    </tr>\n",
       "    <tr>\n",
       "      <th>13</th>\n",
       "      <td>V</td>\n",
       "      <td>298</td>\n",
       "      <td>2025-04-18 19:27:05.526499</td>\n",
       "    </tr>\n",
       "    <tr>\n",
       "      <th>14</th>\n",
       "      <td>WMT</td>\n",
       "      <td>97</td>\n",
       "      <td>2025-04-18 19:27:05.526499</td>\n",
       "    </tr>\n",
       "    <tr>\n",
       "      <th>15</th>\n",
       "      <td>XOM</td>\n",
       "      <td>103</td>\n",
       "      <td>2025-04-18 19:27:05.526499</td>\n",
       "    </tr>\n",
       "  </tbody>\n",
       "</table>\n",
       "</div>"
      ],
      "text/plain": [
       "   company  current_price          current_timestmap\n",
       "0     AAPL            237 2025-04-18 19:27:05.526499\n",
       "1     AMZN            249 2025-04-18 19:27:05.526499\n",
       "2    GOOGL            193 2025-04-18 19:27:05.526499\n",
       "3      JPM            286 2025-04-18 19:27:05.526499\n",
       "4       MA            465 2025-04-18 19:27:05.526499\n",
       "5     META            707 2025-04-18 19:27:05.526499\n",
       "6     MSFT            451 2025-04-18 19:27:05.526499\n",
       "7     NFLX           1043 2025-04-18 19:27:05.526499\n",
       "8     NVDA            146 2025-04-18 19:27:05.526499\n",
       "9     ORCL            169 2025-04-18 19:27:05.526499\n",
       "10      PG            165 2025-04-18 19:27:05.526499\n",
       "11     SAP            252 2025-04-18 19:27:05.526499\n",
       "12    TSLA            444 2025-04-18 19:27:05.526499\n",
       "13       V            298 2025-04-18 19:27:05.526499\n",
       "14     WMT             97 2025-04-18 19:27:05.526499\n",
       "15     XOM            103 2025-04-18 19:27:05.526499"
      ]
     },
     "execution_count": 9,
     "metadata": {},
     "output_type": "execute_result"
    }
   ],
   "source": [
    "df"
   ]
  },
  {
   "cell_type": "code",
   "execution_count": null,
   "metadata": {},
   "outputs": [],
   "source": []
  }
 ],
 "metadata": {
  "kernelspec": {
   "display_name": "Python 3",
   "language": "python",
   "name": "python3"
  },
  "language_info": {
   "codemirror_mode": {
    "name": "ipython",
    "version": 3
   },
   "file_extension": ".py",
   "mimetype": "text/x-python",
   "name": "python",
   "nbconvert_exporter": "python",
   "pygments_lexer": "ipython3",
   "version": "3.8.5"
  }
 },
 "nbformat": 4,
 "nbformat_minor": 4
}
