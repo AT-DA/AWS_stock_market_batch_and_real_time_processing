{
 "cells": [
  {
   "cell_type": "markdown",
   "metadata": {},
   "source": [
    "**Purpose**\n",
    "\n",
    "This jupter notebok file generates a stock market prices csv file with the following columns:\n",
    "\n",
    "company- The company code\n",
    "\n",
    "date- A random date between 1/1/2022 and 31/12/2024\n",
    "\n",
    "stock_price- The stock closing price of the company on that date\n",
    "\n",
    "Each record represents the stock closing price of a company on a particular date\n",
    "\n",
    "So the PK of the dataset is the company and the date columns\n",
    "\n",
    "After the csv is generated, its gets exported to the s3 bucket\n",
    "\n",
    "When the csv gets exported, the file gets named with the timestamp as the time of exporting\n",
    "\n",
    "This jupyter notebook acts as the data source used for batch processing"
   ]
  },
  {
   "cell_type": "code",
   "execution_count": 1,
   "metadata": {},
   "outputs": [
    {
     "name": "stderr",
     "output_type": "stream",
     "text": [
      "D:\\Anaconda\\lib\\site-packages\\pandas\\core\\computation\\expressions.py:20: UserWarning: Pandas requires version '2.7.3' or newer of 'numexpr' (version '2.7.1' currently installed).\n",
      "  from pandas.core.computation.check import NUMEXPR_INSTALLED\n"
     ]
    }
   ],
   "source": [
    "import pandas as pd\n",
    "from datetime import datetime, timedelta\n",
    "from random import randrange\n",
    "import s3fs\n",
    "from pyathena import connect\n",
    "from pandasql import sqldf"
   ]
  },
  {
   "cell_type": "code",
   "execution_count": 2,
   "metadata": {},
   "outputs": [],
   "source": [
    "#get the current stock prices of some companies on 25/01/2025\n",
    "\n",
    "companies_price = {\n",
    "                    'NVDA': {'current_price':143},\n",
    "                    'AAPL': {'current_price':223},\n",
    "                    'MSFT': {'current_price':444},\n",
    "                    'AMZN': {'current_price':234},\n",
    "                    'GOOGL': {'current_price':200},\n",
    "                    'META': {'current_price':647},\n",
    "                    'TSLA': {'current_price':407},\n",
    "                    'WMT': {'current_price':95},\n",
    "                    'JPM': {'current_price':265},\n",
    "                    'V': {'current_price':330},\n",
    "                    'ORCL': {'current_price':184},\n",
    "                    'MA': {'current_price':490},\n",
    "                    'XOM': {'current_price':109},\n",
    "                    'NFLX': {'current_price':978},\n",
    "                    'PG': {'current_price':164},\n",
    "                    'SAP': {'current_price':276}\n",
    "                    }"
   ]
  },
  {
   "cell_type": "code",
   "execution_count": 3,
   "metadata": {},
   "outputs": [],
   "source": [
    "#create a min and max price for each current price by adding and removing 10% from the current price\n",
    "\n",
    "for k in companies_price:\n",
    "    companies_price[k]['min_price'] = int(companies_price[k]['current_price'] * 0.9)\n",
    "    companies_price[k]['max_price'] = int(companies_price[k]['current_price'] * 1.1)"
   ]
  },
  {
   "cell_type": "code",
   "execution_count": 4,
   "metadata": {},
   "outputs": [],
   "source": [
    "#create a random date between 1/1/2022 and 31/12/2024\n",
    "\n",
    "date_1 = datetime.strptime('01-01-2022', '%d-%m-%Y')\n",
    "date_2 = datetime.strptime('31-12-2024', '%d-%m-%Y')\n",
    "\n",
    "days_diff_integer = (date_2 - date_1).days\n",
    "random_days = randrange(days_diff_integer)\n",
    "random_date = date_1 + timedelta(days = random_days)\n",
    "random_date = random_date.strftime('%Y-%m-%d')"
   ]
  },
  {
   "cell_type": "code",
   "execution_count": 5,
   "metadata": {},
   "outputs": [],
   "source": [
    "#generate a random closing pricing between the min and the max prices, and add the random_date generated in the previous step\n",
    "\n",
    "for k in companies_price:\n",
    "    min_price = companies_price[k]['min_price']\n",
    "    max_price = companies_price[k]['max_price']\n",
    "    companies_price[k]['date'] = random_date\n",
    "    companies_price[k]['close_price'] = randrange(min_price, max_price)"
   ]
  },
  {
   "cell_type": "code",
   "execution_count": 6,
   "metadata": {},
   "outputs": [],
   "source": [
    "#delete the keys min_price, max_price and current_price since they're not needed anymore\n",
    "\n",
    "for k in companies_price:\n",
    "    del companies_price[k]['min_price'] \n",
    "    del companies_price[k]['max_price']\n",
    "    del companies_price[k]['current_price']"
   ]
  },
  {
   "cell_type": "code",
   "execution_count": 7,
   "metadata": {},
   "outputs": [],
   "source": [
    "df = pd.DataFrame.from_dict(companies_price, orient='index')\n",
    "df.reset_index(inplace = True)\n",
    "df.rename(columns={'index': 'company'}, inplace = True)"
   ]
  },
  {
   "cell_type": "code",
   "execution_count": 8,
   "metadata": {},
   "outputs": [],
   "source": [
    "today = datetime.today()\n",
    "file_name = datetime.strftime(today, '%Y%m%d%H%M%S')"
   ]
  },
  {
   "cell_type": "code",
   "execution_count": 9,
   "metadata": {},
   "outputs": [
    {
     "data": {
      "text/html": [
       "<div>\n",
       "<style scoped>\n",
       "    .dataframe tbody tr th:only-of-type {\n",
       "        vertical-align: middle;\n",
       "    }\n",
       "\n",
       "    .dataframe tbody tr th {\n",
       "        vertical-align: top;\n",
       "    }\n",
       "\n",
       "    .dataframe thead th {\n",
       "        text-align: right;\n",
       "    }\n",
       "</style>\n",
       "<table border=\"1\" class=\"dataframe\">\n",
       "  <thead>\n",
       "    <tr style=\"text-align: right;\">\n",
       "      <th></th>\n",
       "      <th>company</th>\n",
       "      <th>date</th>\n",
       "      <th>close_price</th>\n",
       "    </tr>\n",
       "  </thead>\n",
       "  <tbody>\n",
       "    <tr>\n",
       "      <th>0</th>\n",
       "      <td>NVDA</td>\n",
       "      <td>2024-05-20</td>\n",
       "      <td>134</td>\n",
       "    </tr>\n",
       "    <tr>\n",
       "      <th>1</th>\n",
       "      <td>AAPL</td>\n",
       "      <td>2024-05-20</td>\n",
       "      <td>244</td>\n",
       "    </tr>\n",
       "    <tr>\n",
       "      <th>2</th>\n",
       "      <td>MSFT</td>\n",
       "      <td>2024-05-20</td>\n",
       "      <td>463</td>\n",
       "    </tr>\n",
       "    <tr>\n",
       "      <th>3</th>\n",
       "      <td>AMZN</td>\n",
       "      <td>2024-05-20</td>\n",
       "      <td>234</td>\n",
       "    </tr>\n",
       "    <tr>\n",
       "      <th>4</th>\n",
       "      <td>GOOGL</td>\n",
       "      <td>2024-05-20</td>\n",
       "      <td>191</td>\n",
       "    </tr>\n",
       "    <tr>\n",
       "      <th>5</th>\n",
       "      <td>META</td>\n",
       "      <td>2024-05-20</td>\n",
       "      <td>620</td>\n",
       "    </tr>\n",
       "    <tr>\n",
       "      <th>6</th>\n",
       "      <td>TSLA</td>\n",
       "      <td>2024-05-20</td>\n",
       "      <td>381</td>\n",
       "    </tr>\n",
       "    <tr>\n",
       "      <th>7</th>\n",
       "      <td>WMT</td>\n",
       "      <td>2024-05-20</td>\n",
       "      <td>99</td>\n",
       "    </tr>\n",
       "    <tr>\n",
       "      <th>8</th>\n",
       "      <td>JPM</td>\n",
       "      <td>2024-05-20</td>\n",
       "      <td>264</td>\n",
       "    </tr>\n",
       "    <tr>\n",
       "      <th>9</th>\n",
       "      <td>V</td>\n",
       "      <td>2024-05-20</td>\n",
       "      <td>313</td>\n",
       "    </tr>\n",
       "    <tr>\n",
       "      <th>10</th>\n",
       "      <td>ORCL</td>\n",
       "      <td>2024-05-20</td>\n",
       "      <td>192</td>\n",
       "    </tr>\n",
       "    <tr>\n",
       "      <th>11</th>\n",
       "      <td>MA</td>\n",
       "      <td>2024-05-20</td>\n",
       "      <td>469</td>\n",
       "    </tr>\n",
       "    <tr>\n",
       "      <th>12</th>\n",
       "      <td>XOM</td>\n",
       "      <td>2024-05-20</td>\n",
       "      <td>104</td>\n",
       "    </tr>\n",
       "    <tr>\n",
       "      <th>13</th>\n",
       "      <td>NFLX</td>\n",
       "      <td>2024-05-20</td>\n",
       "      <td>1064</td>\n",
       "    </tr>\n",
       "    <tr>\n",
       "      <th>14</th>\n",
       "      <td>PG</td>\n",
       "      <td>2024-05-20</td>\n",
       "      <td>152</td>\n",
       "    </tr>\n",
       "    <tr>\n",
       "      <th>15</th>\n",
       "      <td>SAP</td>\n",
       "      <td>2024-05-20</td>\n",
       "      <td>263</td>\n",
       "    </tr>\n",
       "  </tbody>\n",
       "</table>\n",
       "</div>"
      ],
      "text/plain": [
       "   company        date  close_price\n",
       "0     NVDA  2024-05-20          134\n",
       "1     AAPL  2024-05-20          244\n",
       "2     MSFT  2024-05-20          463\n",
       "3     AMZN  2024-05-20          234\n",
       "4    GOOGL  2024-05-20          191\n",
       "5     META  2024-05-20          620\n",
       "6     TSLA  2024-05-20          381\n",
       "7      WMT  2024-05-20           99\n",
       "8      JPM  2024-05-20          264\n",
       "9        V  2024-05-20          313\n",
       "10    ORCL  2024-05-20          192\n",
       "11      MA  2024-05-20          469\n",
       "12     XOM  2024-05-20          104\n",
       "13    NFLX  2024-05-20         1064\n",
       "14      PG  2024-05-20          152\n",
       "15     SAP  2024-05-20          263"
      ]
     },
     "execution_count": 9,
     "metadata": {},
     "output_type": "execute_result"
    }
   ],
   "source": [
    "df"
   ]
  },
  {
   "cell_type": "code",
   "execution_count": 28,
   "metadata": {},
   "outputs": [],
   "source": [
    "path = f's3://stock-market-raw-data-us-east-1/stg_price_by_date/{file_name}.csv'"
   ]
  },
  {
   "cell_type": "code",
   "execution_count": 29,
   "metadata": {},
   "outputs": [],
   "source": [
    "df.to_csv(path, index=False, lineterminator = '\\r')"
   ]
  }
 ],
 "metadata": {
  "kernelspec": {
   "display_name": "Python 3",
   "language": "python",
   "name": "python3"
  },
  "language_info": {
   "codemirror_mode": {
    "name": "ipython",
    "version": 3
   },
   "file_extension": ".py",
   "mimetype": "text/x-python",
   "name": "python",
   "nbconvert_exporter": "python",
   "pygments_lexer": "ipython3",
   "version": "3.8.5"
  }
 },
 "nbformat": 4,
 "nbformat_minor": 4
}
